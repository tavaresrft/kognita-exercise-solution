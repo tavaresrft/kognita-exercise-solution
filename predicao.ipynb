{
 "cells": [
  {
   "cell_type": "code",
   "execution_count": 33,
   "metadata": {},
   "outputs": [],
   "source": [
    "from joblib import load\n",
    "import pandas as pd\n",
    "import json"
   ]
  },
  {
   "cell_type": "code",
   "execution_count": 51,
   "metadata": {},
   "outputs": [],
   "source": [
    "# features que são inputs para o modelo\n",
    "feature_columns = [\"default_3months\",\"dividas_vencidas_qtd\", \"dividas_vencidas_valor\", \"acao_judicial_valor\",\"month\"]\n",
    "saved_model_dir = \"saved_model\" # Pasta onde serão salvos o modelo e o scaler\n",
    "saved_model_file = \"classifier.joblib\" # arquivo onde será salvo o modelo\n",
    "saved_transform_file = \"scaler.joblib\" # arquivo onde será salvo o scaler\n",
    "features_file_path = \"resources/features.json\" # arquivo onde estarão os dados a serem preditos\n",
    "prediction_file_path = \"predicted.json\" # arquivo onde estarão as classes preditas"
   ]
  },
  {
   "cell_type": "code",
   "execution_count": 41,
   "metadata": {},
   "outputs": [],
   "source": [
    "# Carrega o classificador e o scaler\n",
    "\n",
    "classifier = load(f\"{saved_model_dir}/{saved_transform_file}\")\n",
    "scaler = load(f\"{saved_model_dir}/{saved_model_file}\")"
   ]
  },
  {
   "cell_type": "code",
   "execution_count": 42,
   "metadata": {},
   "outputs": [],
   "source": [
    "# Carrega o arquivo com os dicionários a serem preditos\n",
    "\n",
    "with open(features_file_path, \"r\") as file:\n",
    "    input_dict = json.load(file)\n",
    "    \n",
    "input_set = pd.DataFrame(input_dict, columns = feature_columns)"
   ]
  },
  {
   "cell_type": "code",
   "execution_count": 63,
   "metadata": {},
   "outputs": [],
   "source": [
    "# Carrega para o dataset somente as colunas usadas no modelo\n",
    "features = input_set.filter(feature_columns)"
   ]
  },
  {
   "cell_type": "code",
   "execution_count": 46,
   "metadata": {},
   "outputs": [],
   "source": [
    "# Faz a transformação usada no modelo\n",
    "features = scaler.transform(features)"
   ]
  },
  {
   "cell_type": "code",
   "execution_count": 62,
   "metadata": {},
   "outputs": [],
   "source": [
    "# Faz a predição dos elementos da lista e salva o resultado em um arguivo\n",
    "predict_list = []\n",
    "for element in features:\n",
    "    prob_default = classifier.predict(element.reshape(1,-1))\n",
    "    predict = {\"default\": int(prob_default[0])}\n",
    "    predict_list.append(predict)\n",
    "    \n",
    "with open(prediction_file_path, \"w\") as file:\n",
    "        json.dump(predict_list, file)"
   ]
  }
 ],
 "metadata": {
  "kernelspec": {
   "display_name": "Python 3",
   "language": "python",
   "name": "python3"
  },
  "language_info": {
   "codemirror_mode": {
    "name": "ipython",
    "version": 3
   },
   "file_extension": ".py",
   "mimetype": "text/x-python",
   "name": "python",
   "nbconvert_exporter": "python",
   "pygments_lexer": "ipython3",
   "version": "3.8.10"
  }
 },
 "nbformat": 4,
 "nbformat_minor": 4
}
